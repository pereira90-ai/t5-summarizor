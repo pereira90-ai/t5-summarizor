{
 "cells": [
  {
   "cell_type": "markdown",
   "id": "invalid-nigeria",
   "metadata": {},
   "source": [
    "# Data Pipeline Preparation\n",
    "\n",
    "This Jupyter Notebook demonstrates how data pipeline is prepared.\n",
    "* text will be extracted from PDF files and saved into SQLite database"
   ]
  },
  {
   "cell_type": "markdown",
   "id": "minor-daughter",
   "metadata": {},
   "source": [
    "## Import Libraries"
   ]
  },
  {
   "cell_type": "code",
   "execution_count": 1,
   "id": "split-destruction",
   "metadata": {},
   "outputs": [],
   "source": [
    "import numpy as np\n",
    "import pandas as pd\n",
    "\n",
    "from glob import glob\n",
    "\n",
    "# Python package to extract text from pdf\n",
    "from pdfminer.high_level import extract_text"
   ]
  },
  {
   "cell_type": "markdown",
   "id": "numeric-reading",
   "metadata": {},
   "source": [
    "Save file path in numpy array"
   ]
  },
  {
   "cell_type": "code",
   "execution_count": 2,
   "id": "promising-michigan",
   "metadata": {},
   "outputs": [],
   "source": [
    "# load filenames for pdf files\n",
    "pdf_files = np.array(glob(\"pdf/*\"))"
   ]
  },
  {
   "cell_type": "code",
   "execution_count": 3,
   "id": "interstate-garlic",
   "metadata": {},
   "outputs": [
    {
     "data": {
      "text/plain": [
       "5"
      ]
     },
     "execution_count": 3,
     "metadata": {},
     "output_type": "execute_result"
    }
   ],
   "source": [
    "# number of files in the 'PDF' folder\n",
    "len(pdf_files)"
   ]
  },
  {
   "cell_type": "markdown",
   "id": "mechanical-fraud",
   "metadata": {},
   "source": [
    "## Extract text from PDF files"
   ]
  },
  {
   "cell_type": "code",
   "execution_count": 4,
   "id": "republican-rates",
   "metadata": {},
   "outputs": [],
   "source": [
    "# create empty dictionary called text_dict\n",
    "text_dict = {}\n",
    "\n",
    "# loop through the filenames, extract text from PDF files and save to the dictionary\n",
    "for file in pdf_files:\n",
    "    text = extract_text(file)\n",
    "    text_dict[file] = text"
   ]
  },
  {
   "cell_type": "code",
   "execution_count": 5,
   "id": "monthly-proportion",
   "metadata": {},
   "outputs": [],
   "source": [
    "# convert dictionary to pandas DataFrame\n",
    "df = pd.DataFrame(list(text_dict.items()), columns = ['file_path', \"raw_text\"])"
   ]
  },
  {
   "cell_type": "markdown",
   "id": "searching-cyprus",
   "metadata": {},
   "source": [
    "File paths and raw text from PDF files in PDF folder have been saved to a dataframe"
   ]
  },
  {
   "cell_type": "code",
   "execution_count": 6,
   "id": "constant-serial",
   "metadata": {},
   "outputs": [
    {
     "data": {
      "text/html": [
       "<div>\n",
       "<style scoped>\n",
       "    .dataframe tbody tr th:only-of-type {\n",
       "        vertical-align: middle;\n",
       "    }\n",
       "\n",
       "    .dataframe tbody tr th {\n",
       "        vertical-align: top;\n",
       "    }\n",
       "\n",
       "    .dataframe thead th {\n",
       "        text-align: right;\n",
       "    }\n",
       "</style>\n",
       "<table border=\"1\" class=\"dataframe\">\n",
       "  <thead>\n",
       "    <tr style=\"text-align: right;\">\n",
       "      <th></th>\n",
       "      <th>file_path</th>\n",
       "      <th>raw_text</th>\n",
       "    </tr>\n",
       "  </thead>\n",
       "  <tbody>\n",
       "    <tr>\n",
       "      <th>0</th>\n",
       "      <td>pdf/Maple Knoll Communities success story.pdf</td>\n",
       "      <td>Residents  \\nfirst, technology \\nsecond\\n\\nSUC...</td>\n",
       "    </tr>\n",
       "    <tr>\n",
       "      <th>1</th>\n",
       "      <td>pdf/circle-of-life-hospice.pdf</td>\n",
       "      <td>Committed  \\nto providing  \\ncompassionate \\nc...</td>\n",
       "    </tr>\n",
       "    <tr>\n",
       "      <th>2</th>\n",
       "      <td>pdf/Concord Regional VNA Systems Success Story...</td>\n",
       "      <td>EHR software \\ndelivers increased \\nproductivi...</td>\n",
       "    </tr>\n",
       "    <tr>\n",
       "      <th>3</th>\n",
       "      <td>pdf/willow-health.pdf</td>\n",
       "      <td>Overcoming  \\nEHR adoption \\nhurdles\\n\\nSUCCES...</td>\n",
       "    </tr>\n",
       "    <tr>\n",
       "      <th>4</th>\n",
       "      <td>pdf/first-choice-home-health-and-hospice.pdf</td>\n",
       "      <td>Eliminating paper \\nand improving \\norganizati...</td>\n",
       "    </tr>\n",
       "  </tbody>\n",
       "</table>\n",
       "</div>"
      ],
      "text/plain": [
       "                                           file_path  \\\n",
       "0      pdf/Maple Knoll Communities success story.pdf   \n",
       "1                     pdf/circle-of-life-hospice.pdf   \n",
       "2  pdf/Concord Regional VNA Systems Success Story...   \n",
       "3                              pdf/willow-health.pdf   \n",
       "4       pdf/first-choice-home-health-and-hospice.pdf   \n",
       "\n",
       "                                            raw_text  \n",
       "0  Residents  \\nfirst, technology \\nsecond\\n\\nSUC...  \n",
       "1  Committed  \\nto providing  \\ncompassionate \\nc...  \n",
       "2  EHR software \\ndelivers increased \\nproductivi...  \n",
       "3  Overcoming  \\nEHR adoption \\nhurdles\\n\\nSUCCES...  \n",
       "4  Eliminating paper \\nand improving \\norganizati...  "
      ]
     },
     "execution_count": 6,
     "metadata": {},
     "output_type": "execute_result"
    }
   ],
   "source": [
    "df"
   ]
  },
  {
   "cell_type": "markdown",
   "id": "swiss-sunrise",
   "metadata": {},
   "source": [
    "## Save Data\n",
    "\n",
    "Save dataset into a SQLite database"
   ]
  },
  {
   "cell_type": "code",
   "execution_count": 7,
   "id": "reliable-african",
   "metadata": {},
   "outputs": [],
   "source": [
    "# import SQLAlchemy library\n",
    "from sqlalchemy import create_engine\n",
    "\n",
    "engine = create_engine('sqlite:///Text.db')\n",
    "df.to_sql('Text_table', engine, if_exists = 'replace', index=False)"
   ]
  },
  {
   "cell_type": "code",
   "execution_count": null,
   "id": "described-choir",
   "metadata": {},
   "outputs": [],
   "source": []
  }
 ],
 "metadata": {
  "kernelspec": {
   "display_name": "Python 3",
   "language": "python",
   "name": "python3"
  },
  "language_info": {
   "codemirror_mode": {
    "name": "ipython",
    "version": 3
   },
   "file_extension": ".py",
   "mimetype": "text/x-python",
   "name": "python",
   "nbconvert_exporter": "python",
   "pygments_lexer": "ipython3",
   "version": "3.7.10"
  }
 },
 "nbformat": 4,
 "nbformat_minor": 5
}
